{
 "cells": [
  {
   "attachments": {},
   "cell_type": "markdown",
   "metadata": {},
   "source": [
    "Some resources that might come handy in Bash scripting (command line interface) or when using the python programming language."
   ]
  },
  {
   "attachments": {},
   "cell_type": "markdown",
   "metadata": {},
   "source": [
    "1-\tCounting the number of files matching a given pattern in a directory. The link here can take you there. The command in this case is ls which is short for list\n",
    "ls  /some/path/directory | grep ‘some_mask_.*\\.gz | wc -l\n",
    "and the script:\n",
    "iFiles=`ls /some/path/some/dir/ | grep 'some_mask_.*\\.txt' | wc -l`\n",
    "echo \"iFiles: ${iFiles}\"\n"
   ]
  },
  {
   "attachments": {},
   "cell_type": "markdown",
   "metadata": {},
   "source": [
    "2-\tOther suggestions that work as well and that I found to be robust and less likely to break\n",
    "find -name \"*pattern*\" | wc -l #here wc is short for word count while l is for line.\n"
   ]
  },
  {
   "attachments": {},
   "cell_type": "markdown",
   "metadata": {},
   "source": [
    "3-\tTo save results in vector so you can reuse\n",
    "iFiles=$(find -name \"*SRR*\" | wc -l)\n",
    "echo \"iFiles: ${iFiles}\"\n"
   ]
  },
  {
   "attachments": {},
   "cell_type": "markdown",
   "metadata": {},
   "source": [
    "4-\tHow to go access the linux directory\n",
    "From within ubuntu or vscode, use the command: Explorer.exe .\n",
    "print the first four files in a directory\n",
    "ls -U | head -4\n",
    "a more general approach for printing. I found this stackoverflow answer to be well explained and very intuitive if you are printing all files that match a given pattern such as .txt files for example \n",
    "yourfilenames=`ls ./*.txt`\n",
    "for eachfile in $yourfilenames\n",
    "do\n",
    "   echo $eachfile\n",
    "done\n"
   ]
  },
  {
   "attachments": {},
   "cell_type": "markdown",
   "metadata": {},
   "source": [
    "5-\tCopy first 100 line of a file in a directory and save them to different directory\n",
    "ls path/to/dir/containing/files/* | head -100 | xargs -I{} cp {} /Path/to/new/dir\n"
   ]
  },
  {
   "attachments": {},
   "cell_type": "markdown",
   "metadata": {},
   "source": [
    "\n",
    "6-\tTo find the path of a file. It works whether you are in the directory above or in the same directory where the file is located.\n",
    "find $pwd -name \"filename\"  \n",
    "./ is the current working directory but could be replaced with any path\n",
    "*.txt returns anything.txt\n",
    "You can check what will be listed easily by typing the ls command straight into the terminal.\n",
    "Basically, you create a variable yourfilenames containing everything the list command returns as a separate element, and then you loop through it. The loop creates a temporary variable eachfile that contains a single element of the variable it's looping through, in this case a filename. This isn't necessarily better than the other answers, but I find it intuitive because I'm already familiar with the ls command and the for loop syntax. \n",
    "\n"
   ]
  },
  {
   "attachments": {},
   "cell_type": "markdown",
   "metadata": {},
   "source": [
    "7-\tto transform from windows text file to linux’s\n",
    "tr -d ‘\\15\\32’ < windowsfile.txt > unixfile.txt\n"
   ]
  },
  {
   "attachments": {},
   "cell_type": "markdown",
   "metadata": {},
   "source": [
    "9-\tsearching files in a directory. The link is [here](https://askubuntu.com/questions/1105571/find-recursively-in-folders-subfolders-and-multiple-files \"check it out\")\n",
    "find -iname \"SRR13956600*.gz\" -printf \"%f\\n\"\n",
    "the above will find all files that starts with SRR1396600 and ends with .gz then print each of those files on a line.\n"
   ]
  },
  {
   "attachments": {},
   "cell_type": "markdown",
   "metadata": {},
   "source": [
    "A few things on creating environments and managing packages with conda.\n",
    "How do I specify a location for a Conda environment?\n",
    "Why would you want to isolate an environment in the first place? It appears it is the best practice as it prevents conflicts between dependencies.\n",
    "To create and isolate conda environment you need the prefix switch like indicated below. They were obtained from the [link](https://edcarp.github.io/introduction-to-conda-for-data-scientists/03-using-packages-and-channels/index.html \"check it out\")\n",
    "Creating a new environment as a sub-directory within a project directory\n",
    "$ mkdir project-dir\n",
    "$ cd project-dir\n",
    "Next, create a new environment inside the newly created project-dir in a sub-directory called env and install Python 3.6, version 3.1 of Matplotlib, and version 2.0 of TensorFlow.\n",
    "project-dir $ conda create --prefix ./env \\\n",
    "python=3.6 \\\n",
    "matplotlib=3.1 \\\n",
    "tensorflow=2.0\n",
    "\n",
    "To activate conda activate ./env (make sure you are in the project directory before you execute the code otherwise it won’t work)\n",
    "To install a package in the newly created conda environment\n",
    "Conda install pandas –-prefix /path/to/env You can specify the version of the \n",
    "Package to be installed for example pandas=1.1. Both -–prefix or -p are equivalent.\n",
    "\n",
    "If you created your Conda environment using the --prefix option to install packages into a particular directory, then you will need to use that prefix in order for conda to locate the environment on your machine.\n",
    "conda list --prefix /path/to/conda-env\n",
    "\n",
    "Install a package in the newly created env. The switch -–channel specifies where conda will fetch the package. If no specification is made conda will find the package without restricting itself to bioconda.\n",
    "$ conda install salmon --channel bioconda --prefix ./env\n",
    "\n",
    "To remove an entire conda environment\n",
    "Conda remove –-prefix /path/to/the/env –all --yes\n",
    "\n",
    "To list the content of an environment\n",
    "conda list --prefix /path/to/conda-env\n",
    "\n",
    "To list all the conda virtual environment that has been created in the system.\n",
    "conda env list\n"
   ]
  },
  {
   "attachments": {},
   "cell_type": "markdown",
   "metadata": {},
   "source": [
    "to install a jupyter kernel in a virtual environment so you can execute notebooks\n",
    "first create a project folder then change directory into the newly created folder and create a virtual environment within that folder, this is best done on ubuntu terminal\n",
    "second activate the environment, third run the following commands\n",
    "1.\tPip install ipykernel\n",
    "2.\tRegister your kernel by running the command python -m ipykernel install -user –name=myemv, where “myenv” is the name of your kernel.\n",
    "In vs code, open a new jupyter notebook file->open new file->jupyter notebook. Paste the code you want to execute. You will be able to run the notebook hitch free. This took me a while to find out. I kept thinking that because I am using conda to manage packages and dependencies I can only use it to install the kernel. Hell I was totally wrong.\n"
   ]
  }
 ],
 "metadata": {
  "language_info": {
   "name": "python"
  },
  "orig_nbformat": 4
 },
 "nbformat": 4,
 "nbformat_minor": 2
}
